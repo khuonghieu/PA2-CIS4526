{
 "cells": [
  {
   "cell_type": "code",
   "execution_count": 1,
   "metadata": {},
   "outputs": [],
   "source": [
    "import sys\n",
    "import csv\n",
    "from sklearn import tree\n",
    "from sklearn import preprocessing\n",
    "import matplotlib\n",
    "import graphviz\n",
    "import numpy as np"
   ]
  },
  {
   "cell_type": "code",
   "execution_count": 3,
   "metadata": {},
   "outputs": [],
   "source": [
    "szDatasetPath = 'breast_cancer.csv'\n",
    "#szDatasetPath = 'titanic_train.csv'\n",
    "\n",
    "'''\n",
    "Read the data from the csv file\n",
    "listColNames[j] stores the jth column name\n",
    "listData[i][:-1] are the features of the ith example\n",
    "listData[i][-1] is the target value of the ith example\n",
    "'''\n",
    "listColNames = [] # The list of column names\n",
    "listData = [] # The list of feature vectors of all the examples\n",
    "nRow = 0\n",
    "with open(szDatasetPath) as csvFile:\n",
    "    csvReader = csv.reader(csvFile, delimiter=',')\n",
    "    for row in csvReader:\n",
    "        if 0 == nRow:\n",
    "            listColNames = row\n",
    "        else:\n",
    "            listData.append(row)\n",
    "        nRow += 1\n",
    "\n",
    "'''\n",
    "Scan the data and store the unique values of each column.\n",
    "listColUniqueVals[j] stores a list of unique values of the jth column\n",
    "'''\n",
    "listColUniqueVals = [[] for i in range(len(listColNames))]\n",
    "for example in listData:\n",
    "    for i in range(len(example)):\n",
    "        if example[i] not in listColUniqueVals[i]:\n",
    "            listColUniqueVals[i].append(example[i])\n"
   ]
  },
  {
   "cell_type": "code",
   "execution_count": 5,
   "metadata": {},
   "outputs": [],
   "source": [
    "#Label encoder to use when encoding features and labels\n",
    "le = preprocessing.LabelEncoder()\n",
    "#Encode the label array\n",
    "classCol = [row[-1] for row in listData]\n",
    "classColEncoded = le.fit_transform(classCol)"
   ]
  },
  {
   "cell_type": "code",
   "execution_count": null,
   "metadata": {},
   "outputs": [],
   "source": []
  }
 ],
 "metadata": {
  "kernelspec": {
   "display_name": "Python 3",
   "language": "python",
   "name": "python3"
  },
  "language_info": {
   "codemirror_mode": {
    "name": "ipython",
    "version": 3
   },
   "file_extension": ".py",
   "mimetype": "text/x-python",
   "name": "python",
   "nbconvert_exporter": "python",
   "pygments_lexer": "ipython3",
   "version": "3.7.5rc1"
  }
 },
 "nbformat": 4,
 "nbformat_minor": 2
}
