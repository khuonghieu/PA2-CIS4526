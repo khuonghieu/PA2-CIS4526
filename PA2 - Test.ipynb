{
 "cells": [
  {
   "cell_type": "code",
   "execution_count": 14,
   "metadata": {},
   "outputs": [],
   "source": [
    "import sys\n",
    "import csv\n",
    "from sklearn import tree\n",
    "from sklearn import preprocessing\n",
    "import matplotlib\n",
    "import graphviz\n",
    "import numpy as np"
   ]
  },
  {
   "cell_type": "code",
   "execution_count": 15,
   "metadata": {},
   "outputs": [],
   "source": [
    "szDatasetPath = 'breast_cancer.csv'\n",
    "\n",
    "'''\n",
    "Read the data from the csv file\n",
    "listColNames[j] stores the jth column name\n",
    "listData[i][:-1] are the features of the ith example\n",
    "listData[i][-1] is the target value of the ith example\n",
    "'''\n",
    "listColNames = [] # The list of column names\n",
    "listData = [] # The list of feature vectors of all the examples\n",
    "nRow = 0\n",
    "with open(szDatasetPath) as csvFile:\n",
    "    csvReader = csv.reader(csvFile, delimiter=',')\n",
    "    for row in csvReader:\n",
    "        if 0 == nRow:\n",
    "            listColNames = row\n",
    "        else:\n",
    "            listData.append(row)\n",
    "        nRow += 1\n",
    "\n",
    "'''\n",
    "Scan the data and store the unique values of each column.\n",
    "listColUniqueVals[j] stores a list of unique values of the jth column\n",
    "'''\n",
    "listColUniqueVals = [[] for i in range(len(listColNames))]\n",
    "for example in listData:\n",
    "    for i in range(len(example)):\n",
    "        if example[i] not in listColUniqueVals[i]:\n",
    "            listColUniqueVals[i].append(example[i])\n"
   ]
  },
  {
   "cell_type": "code",
   "execution_count": 3,
   "metadata": {},
   "outputs": [
    {
     "data": {
      "text/plain": [
       "['age',\n",
       " 'menopause',\n",
       " 'tumor-size',\n",
       " 'inv-nodes',\n",
       " 'node-caps',\n",
       " 'deg-malig',\n",
       " 'breast',\n",
       " 'breast-quad',\n",
       " 'irradiat',\n",
       " 'class']"
      ]
     },
     "execution_count": 3,
     "metadata": {},
     "output_type": "execute_result"
    }
   ],
   "source": [
    "listColNames"
   ]
  },
  {
   "cell_type": "code",
   "execution_count": 4,
   "metadata": {},
   "outputs": [
    {
     "data": {
      "text/plain": [
       "[['30-39', '40-49', '60-69', '50-59', '70-79', '20-29'],\n",
       " ['premeno', 'ge40', 'lt40'],\n",
       " ['30-34',\n",
       "  '20-24',\n",
       "  '15-19',\n",
       "  '0-4',\n",
       "  '25-29',\n",
       "  '50-54',\n",
       "  '14-Oct',\n",
       "  '40-44',\n",
       "  '35-39',\n",
       "  '9-May',\n",
       "  '45-49'],\n",
       " ['0-2', '8-Jun', '11-Sep', '5-Mar', '15-17', '14-Dec', '24-26'],\n",
       " ['no', 'yes', '?'],\n",
       " ['3', '2', '1'],\n",
       " ['left', 'right'],\n",
       " ['left_low', 'right_up', 'left_up', 'right_low', 'central', '?'],\n",
       " ['no', 'yes'],\n",
       " ['no-recurrence-events', 'recurrence-events']]"
      ]
     },
     "execution_count": 4,
     "metadata": {},
     "output_type": "execute_result"
    }
   ],
   "source": [
    "listColUniqueVals"
   ]
  },
  {
   "cell_type": "code",
   "execution_count": null,
   "metadata": {},
   "outputs": [],
   "source": [
    "listData"
   ]
  },
  {
   "cell_type": "code",
   "execution_count": 5,
   "metadata": {},
   "outputs": [
    {
     "name": "stdout",
     "output_type": "stream",
     "text": [
      "DecisionTreeClassifier(class_weight=None, criterion='entropy', max_depth=1,\n",
      "                       max_features=None, max_leaf_nodes=None,\n",
      "                       min_impurity_decrease=0.0, min_impurity_split=None,\n",
      "                       min_samples_leaf=1, min_samples_split=2,\n",
      "                       min_weight_fraction_leaf=0.0, presort=False,\n",
      "                       random_state=None, splitter='best')\n"
     ]
    }
   ],
   "source": [
    "clf = tree.DecisionTreeClassifier(max_depth=1, criterion='entropy')\n",
    "print(clf)"
   ]
  },
  {
   "cell_type": "code",
   "execution_count": 20,
   "metadata": {},
   "outputs": [],
   "source": [
    "#Calculate entropy of an array\n",
    "def entropy(labels):\n",
    "    prob_dict = {x:labels.count(x)/len(labels) for x in labels}\n",
    "    probs = np.array(list(prob_dict.values()))\n",
    "\n",
    "    return - probs.dot(np.log2(probs))"
   ]
  },
  {
   "cell_type": "code",
   "execution_count": 7,
   "metadata": {},
   "outputs": [],
   "source": [
    "le = preprocessing.LabelEncoder()"
   ]
  },
  {
   "cell_type": "code",
   "execution_count": 8,
   "metadata": {},
   "outputs": [],
   "source": [
    "classCol = [row[-1] for row in listData]\n",
    "classColEncoded = le.fit_transform(classCol)"
   ]
  },
  {
   "cell_type": "code",
   "execution_count": 9,
   "metadata": {},
   "outputs": [],
   "source": [
    "for i in range(0,len(listColNames)-1):\n",
    "    featureCol = [row[i] for row in listData]\n",
    "    featureCol = le.fit_transform(featureCol)"
   ]
  },
  {
   "cell_type": "code",
   "execution_count": 10,
   "metadata": {},
   "outputs": [],
   "source": [
    "ageCol = [row[0] for row in listData]"
   ]
  },
  {
   "cell_type": "code",
   "execution_count": 11,
   "metadata": {},
   "outputs": [],
   "source": [
    "ageCol = le.fit_transform(ageCol)"
   ]
  },
  {
   "cell_type": "code",
   "execution_count": 12,
   "metadata": {},
   "outputs": [
    {
     "data": {
      "text/plain": [
       "array([1, 2, 2, 4, 2, 4, 3, 4, 2, 2, 2, 3, 4, 3, 2, 4, 2, 3, 4, 3, 3, 4,\n",
       "       1, 3, 3, 2, 3, 4, 2, 4, 3, 3, 3, 3, 3, 1, 3, 3, 2, 2, 3, 4, 4, 2,\n",
       "       3, 3, 2, 3, 2, 2, 3, 1, 3, 5, 5, 5, 3, 3, 4, 4, 2, 2, 3, 0, 2, 2,\n",
       "       2, 3, 3, 4, 4, 2, 4, 3, 1, 3, 3, 1, 3, 2, 3, 4, 4, 3, 2, 3, 4, 5,\n",
       "       3, 2, 1, 3, 3, 4, 3, 2, 4, 4, 2, 1, 2, 3, 3, 2, 2, 2, 2, 1, 2, 4,\n",
       "       3, 3, 2, 2, 2, 3, 1, 2, 1, 4, 4, 3, 3, 3, 4, 5, 1, 1, 3, 2, 2, 2,\n",
       "       2, 3, 4, 1, 1, 2, 1, 2, 3, 3, 4, 2, 4, 2, 4, 3, 1, 3, 3, 4, 3, 4,\n",
       "       1, 4, 3, 3, 3, 2, 2, 2, 4, 4, 4, 2, 2, 2, 3, 2, 1, 1, 4, 3, 3, 2,\n",
       "       2, 4, 3, 2, 2, 2, 2, 3, 3, 2, 3, 4, 2, 3, 2, 2, 3, 1, 3, 3, 3, 2,\n",
       "       3, 3, 4, 3, 2, 3, 3, 1, 3, 3, 3, 2, 2, 3, 2, 3, 4, 2, 3, 2, 4, 1,\n",
       "       2, 1, 4, 4, 1, 2, 2, 3, 4, 4, 3, 2, 1, 5, 4, 3, 2, 2, 1, 2, 4, 2,\n",
       "       3, 3, 2, 1, 1, 3, 4, 1, 2, 2, 1, 4, 2, 2, 2, 2, 3, 3, 4, 2, 4, 3,\n",
       "       3, 1, 2, 4, 1, 2, 3, 3, 2, 4, 4, 2, 1, 4, 3, 3, 3, 1, 1, 4, 2, 3])"
      ]
     },
     "execution_count": 12,
     "metadata": {},
     "output_type": "execute_result"
    }
   ],
   "source": [
    "ageCol"
   ]
  },
  {
   "cell_type": "code",
   "execution_count": 22,
   "metadata": {},
   "outputs": [
    {
     "name": "stdout",
     "output_type": "stream",
     "text": [
      "0.8778446951746506\n",
      "less than entropy 0.5: -0.0\n",
      "more than entropy 0.5: 0.8791357668533336\n",
      "\n",
      "less than entropy 1.5: 0.9740248644357521\n",
      "more than entropy 1.5: 0.8569784970622595\n",
      "\n",
      "less than entropy 2.5: 0.9156487708004133\n",
      "more than entropy 2.5: 0.8420956603976348\n",
      "\n",
      "less than entropy 3.5: 0.8818383667221814\n",
      "more than entropy 3.5: 0.863120568566631\n",
      "\n",
      "less than entropy 4.5: 0.8812908992306927\n",
      "more than entropy 4.5: 0.6500224216483541\n",
      "\n",
      "less than entropy 5.5: 0.8778446951746506\n",
      "more than entropy 5.5: -0.0\n",
      "\n"
     ]
    }
   ],
   "source": [
    "ageDict = dict()\n",
    "print(entropy(classCol))\n",
    "for i in range(0,6):\n",
    "    i2= i+0.5\n",
    "    less = []\n",
    "    more = []\n",
    "    for x in range(len(ageCol)):\n",
    "        if(ageCol[x]<i2):\n",
    "            less.append(classColEncoded[x])\n",
    "        elif(ageCol[x]>i2):\n",
    "            more.append(classColEncoded[x])\n",
    "    print(\"less than entropy \" + str(i2) + \": \"+str(entropy(less)))\n",
    "    print(\"more than entropy \" + str(i2) + \": \"+str(entropy(more)))\n",
    "    print()"
   ]
  },
  {
   "cell_type": "code",
   "execution_count": null,
   "metadata": {},
   "outputs": [],
   "source": []
  },
  {
   "cell_type": "code",
   "execution_count": 18,
   "metadata": {},
   "outputs": [
    {
     "data": {
      "text/plain": [
       "DecisionTreeClassifier(class_weight=None, criterion='entropy', max_depth=1,\n",
       "                       max_features=None, max_leaf_nodes=None,\n",
       "                       min_impurity_decrease=0.0, min_impurity_split=None,\n",
       "                       min_samples_leaf=1, min_samples_split=2,\n",
       "                       min_weight_fraction_leaf=0.0, presort=False,\n",
       "                       random_state=None, splitter='best')"
      ]
     },
     "execution_count": 18,
     "metadata": {},
     "output_type": "execute_result"
    }
   ],
   "source": [
    "clf.fit(ageCol.reshape(-1,1),classColEncoded)"
   ]
  },
  {
   "cell_type": "code",
   "execution_count": 19,
   "metadata": {},
   "outputs": [
    {
     "data": {
      "image/svg+xml": [
       "<?xml version=\"1.0\" encoding=\"UTF-8\" standalone=\"no\"?>\n",
       "<!DOCTYPE svg PUBLIC \"-//W3C//DTD SVG 1.1//EN\"\n",
       " \"http://www.w3.org/Graphics/SVG/1.1/DTD/svg11.dtd\">\n",
       "<!-- Generated by graphviz version 2.40.1 (20161225.0304)\n",
       " -->\n",
       "<!-- Title: Tree Pages: 1 -->\n",
       "<svg width=\"254pt\" height=\"161pt\"\n",
       " viewBox=\"0.00 0.00 254.00 161.00\" xmlns=\"http://www.w3.org/2000/svg\" xmlns:xlink=\"http://www.w3.org/1999/xlink\">\n",
       "<g id=\"graph0\" class=\"graph\" transform=\"scale(1 1) rotate(0) translate(4 157)\">\n",
       "<title>Tree</title>\n",
       "<polygon fill=\"#ffffff\" stroke=\"transparent\" points=\"-4,4 -4,-157 250,-157 250,4 -4,4\"/>\n",
       "<!-- 0 -->\n",
       "<g id=\"node1\" class=\"node\">\n",
       "<title>0</title>\n",
       "<path fill=\"#f0b68d\" stroke=\"#000000\" d=\"M168,-153C168,-153 75,-153 75,-153 69,-153 63,-147 63,-141 63,-141 63,-101 63,-101 63,-95 69,-89 75,-89 75,-89 168,-89 168,-89 174,-89 180,-95 180,-101 180,-101 180,-141 180,-141 180,-147 174,-153 168,-153\"/>\n",
       "<text text-anchor=\"start\" x=\"95.5\" y=\"-138.8\" font-family=\"Helvetica,sans-Serif\" font-size=\"14.00\" fill=\"#000000\">X</text>\n",
       "<text text-anchor=\"start\" x=\"105.5\" y=\"-138.8\" font-family=\"Helvetica,sans-Serif\" baseline-shift=\"sub\" font-size=\"14.00\" fill=\"#000000\">0</text>\n",
       "<text text-anchor=\"start\" x=\"112.5\" y=\"-138.8\" font-family=\"Helvetica,sans-Serif\" font-size=\"14.00\" fill=\"#000000\"> ≤ 1.5</text>\n",
       "<text text-anchor=\"start\" x=\"74\" y=\"-124.8\" font-family=\"Helvetica,sans-Serif\" font-size=\"14.00\" fill=\"#000000\">entropy = 0.878</text>\n",
       "<text text-anchor=\"start\" x=\"76.5\" y=\"-110.8\" font-family=\"Helvetica,sans-Serif\" font-size=\"14.00\" fill=\"#000000\">samples = 286</text>\n",
       "<text text-anchor=\"start\" x=\"71\" y=\"-96.8\" font-family=\"Helvetica,sans-Serif\" font-size=\"14.00\" fill=\"#000000\">value = [201, 85]</text>\n",
       "</g>\n",
       "<!-- 1 -->\n",
       "<g id=\"node2\" class=\"node\">\n",
       "<title>1</title>\n",
       "<path fill=\"#f7d7c0\" stroke=\"#000000\" d=\"M99,-53C99,-53 12,-53 12,-53 6,-53 0,-47 0,-41 0,-41 0,-12 0,-12 0,-6 6,0 12,0 12,0 99,0 99,0 105,0 111,-6 111,-12 111,-12 111,-41 111,-41 111,-47 105,-53 99,-53\"/>\n",
       "<text text-anchor=\"start\" x=\"8\" y=\"-37.8\" font-family=\"Helvetica,sans-Serif\" font-size=\"14.00\" fill=\"#000000\">entropy = 0.974</text>\n",
       "<text text-anchor=\"start\" x=\"14.5\" y=\"-22.8\" font-family=\"Helvetica,sans-Serif\" font-size=\"14.00\" fill=\"#000000\">samples = 37</text>\n",
       "<text text-anchor=\"start\" x=\"8.5\" y=\"-7.8\" font-family=\"Helvetica,sans-Serif\" font-size=\"14.00\" fill=\"#000000\">value = [22, 15]</text>\n",
       "</g>\n",
       "<!-- 0&#45;&gt;1 -->\n",
       "<g id=\"edge1\" class=\"edge\">\n",
       "<title>0&#45;&gt;1</title>\n",
       "<path fill=\"none\" stroke=\"#000000\" d=\"M98.9711,-88.7428C92.8585,-79.9906 86.2112,-70.4728 79.9958,-61.5735\"/>\n",
       "<polygon fill=\"#000000\" stroke=\"#000000\" points=\"82.796,-59.4702 74.2006,-53.2759 77.0571,-63.4784 82.796,-59.4702\"/>\n",
       "<text text-anchor=\"middle\" x=\"69.8297\" y=\"-74.1908\" font-family=\"Helvetica,sans-Serif\" font-size=\"14.00\" fill=\"#000000\">True</text>\n",
       "</g>\n",
       "<!-- 2 -->\n",
       "<g id=\"node3\" class=\"node\">\n",
       "<title>2</title>\n",
       "<path fill=\"#efb286\" stroke=\"#000000\" d=\"M234,-53C234,-53 141,-53 141,-53 135,-53 129,-47 129,-41 129,-41 129,-12 129,-12 129,-6 135,0 141,0 141,0 234,0 234,0 240,0 246,-6 246,-12 246,-12 246,-41 246,-41 246,-47 240,-53 234,-53\"/>\n",
       "<text text-anchor=\"start\" x=\"140\" y=\"-37.8\" font-family=\"Helvetica,sans-Serif\" font-size=\"14.00\" fill=\"#000000\">entropy = 0.857</text>\n",
       "<text text-anchor=\"start\" x=\"142.5\" y=\"-22.8\" font-family=\"Helvetica,sans-Serif\" font-size=\"14.00\" fill=\"#000000\">samples = 249</text>\n",
       "<text text-anchor=\"start\" x=\"137\" y=\"-7.8\" font-family=\"Helvetica,sans-Serif\" font-size=\"14.00\" fill=\"#000000\">value = [179, 70]</text>\n",
       "</g>\n",
       "<!-- 0&#45;&gt;2 -->\n",
       "<g id=\"edge2\" class=\"edge\">\n",
       "<title>0&#45;&gt;2</title>\n",
       "<path fill=\"none\" stroke=\"#000000\" d=\"M144.0289,-88.7428C150.1415,-79.9906 156.7888,-70.4728 163.0042,-61.5735\"/>\n",
       "<polygon fill=\"#000000\" stroke=\"#000000\" points=\"165.9429,-63.4784 168.7994,-53.2759 160.204,-59.4702 165.9429,-63.4784\"/>\n",
       "<text text-anchor=\"middle\" x=\"173.1703\" y=\"-74.1908\" font-family=\"Helvetica,sans-Serif\" font-size=\"14.00\" fill=\"#000000\">False</text>\n",
       "</g>\n",
       "</g>\n",
       "</svg>\n"
      ],
      "text/plain": [
       "<graphviz.files.Source at 0x7f71ad071a10>"
      ]
     },
     "execution_count": 19,
     "metadata": {},
     "output_type": "execute_result"
    }
   ],
   "source": [
    "dot_data = tree.export_graphviz(clf, out_file=None,filled=True, rounded=True,special_characters=True)\n",
    "graph = graphviz.Source(dot_data)\n",
    "graph"
   ]
  },
  {
   "cell_type": "code",
   "execution_count": null,
   "metadata": {},
   "outputs": [],
   "source": [
    "\n"
   ]
  },
  {
   "cell_type": "code",
   "execution_count": null,
   "metadata": {},
   "outputs": [],
   "source": []
  }
 ],
 "metadata": {
  "kernelspec": {
   "display_name": "Python 3",
   "language": "python",
   "name": "python3"
  },
  "language_info": {
   "codemirror_mode": {
    "name": "ipython",
    "version": 3
   },
   "file_extension": ".py",
   "mimetype": "text/x-python",
   "name": "python",
   "nbconvert_exporter": "python",
   "pygments_lexer": "ipython3",
   "version": "3.7.5rc1"
  }
 },
 "nbformat": 4,
 "nbformat_minor": 2
}
