{
 "cells": [
  {
   "cell_type": "code",
   "execution_count": 1,
   "metadata": {},
   "outputs": [],
   "source": [
    "import sys\n",
    "import csv\n",
    "from sklearn import tree\n",
    "from sklearn import preprocessing\n",
    "import matplotlib\n",
    "import graphviz\n",
    "import numpy as np"
   ]
  },
  {
   "cell_type": "code",
   "execution_count": 2,
   "metadata": {},
   "outputs": [],
   "source": [
    "szDatasetPath = 'breast_cancer.csv'\n",
    "#szDatasetPath = 'titanic_train.csv'\n",
    "\n",
    "'''\n",
    "Read the data from the csv file\n",
    "listColNames[j] stores the jth column name\n",
    "listData[i][:-1] are the features of the ith example\n",
    "listData[i][-1] is the target value of the ith example\n",
    "'''\n",
    "listColNames = [] # The list of column names\n",
    "listData = [] # The list of feature vectors of all the examples\n",
    "nRow = 0\n",
    "with open(szDatasetPath) as csvFile:\n",
    "    csvReader = csv.reader(csvFile, delimiter=',')\n",
    "    for row in csvReader:\n",
    "        if 0 == nRow:\n",
    "            listColNames = row\n",
    "        else:\n",
    "            listData.append(row)\n",
    "        nRow += 1\n",
    "\n",
    "'''\n",
    "Scan the data and store the unique values of each column.\n",
    "listColUniqueVals[j] stores a list of unique values of the jth column\n",
    "'''\n",
    "listColUniqueVals = [[] for i in range(len(listColNames))]\n",
    "for example in listData:\n",
    "    for i in range(len(example)):\n",
    "        if example[i] not in listColUniqueVals[i]:\n",
    "            listColUniqueVals[i].append(example[i])\n"
   ]
  },
  {
   "cell_type": "code",
   "execution_count": null,
   "metadata": {},
   "outputs": [],
   "source": [
    "listColNames"
   ]
  },
  {
   "cell_type": "code",
   "execution_count": null,
   "metadata": {},
   "outputs": [],
   "source": [
    "listColUniqueVals"
   ]
  },
  {
   "cell_type": "code",
   "execution_count": null,
   "metadata": {},
   "outputs": [],
   "source": [
    "listData"
   ]
  },
  {
   "cell_type": "code",
   "execution_count": 3,
   "metadata": {},
   "outputs": [],
   "source": [
    "#Calculate entropy of an array\n",
    "def entropy(labels):\n",
    "    prob_dict = {x:labels.count(x)/len(labels) for x in labels}\n",
    "    probs = np.array(list(prob_dict.values()))\n",
    "\n",
    "    return - probs.dot(np.log2(probs))"
   ]
  },
  {
   "cell_type": "code",
   "execution_count": 4,
   "metadata": {},
   "outputs": [],
   "source": [
    "#Compute the value of information gain = entropy before - entropy after\n",
    "def informationGain(parent, left, right):\n",
    "    entropyAfter = (len(left)/len(parent))*entropy(left) + (len(right)/len(parent))*entropy(right)\n",
    "    return (entropy(parent) - entropyAfter)"
   ]
  },
  {
   "cell_type": "code",
   "execution_count": 16,
   "metadata": {},
   "outputs": [],
   "source": [
    "def trainErrorRate(parent,left,right):\n",
    "    maxCountLeft=0\n",
    "    maxCountRight=0\n",
    "    if(left.count(1)>=left.count(0)):\n",
    "        maxCountLeft=left.count(1)\n",
    "    else:\n",
    "        maxCountLeft=left.count(0)\n",
    "    if(right.count(1)>=right.count(0)):\n",
    "        maxCountRight=right.count(1)\n",
    "    else:\n",
    "        maxCountRight=right.count(0)\n",
    "    return (maxCountLeft+maxCountRight)/len(parent)"
   ]
  },
  {
   "cell_type": "code",
   "execution_count": 6,
   "metadata": {},
   "outputs": [],
   "source": [
    "#Label encoder to use when encoding features and labels\n",
    "le = preprocessing.LabelEncoder()"
   ]
  },
  {
   "cell_type": "code",
   "execution_count": 7,
   "metadata": {},
   "outputs": [],
   "source": [
    "#Encode the label array\n",
    "classCol = [row[-1] for row in listData]\n",
    "classColEncoded = le.fit_transform(classCol)"
   ]
  },
  {
   "cell_type": "code",
   "execution_count": 19,
   "metadata": {
    "scrolled": true
   },
   "outputs": [
    {
     "name": "stdout",
     "output_type": "stream",
     "text": [
      "age\n",
      "Best split  1.5  Info gained 0.0057238358997364625\n",
      "Train error  0.7027972027972028\n",
      "\n",
      "menopause\n",
      "Best split  1.5  Info gained 0.0019842575782600402\n",
      "Train error  0.7027972027972028\n",
      "\n",
      "tumor-size\n",
      "Best split  1.5  Info gained 0.03734558688803524\n",
      "Train error  0.7027972027972028\n",
      "\n",
      "inv-nodes\n",
      "Best split  0.5  Info gained 0.06286759046690138\n",
      "Train error  0.7027972027972028\n",
      "\n",
      "node-caps\n",
      "Best split  1.5  Info gained 0.05136145395409386\n",
      "Train error  0.7027972027972028\n",
      "\n",
      "deg-malig\n",
      "Best split  1.5  Info gained 0.0754168448376169\n",
      "Train error  0.7027972027972028\n",
      "\n",
      "breast\n",
      "Best split  0.5  Info gained 0.0024889884332655043\n",
      "Train error  0.7027972027972028\n",
      "\n",
      "breast-quad\n",
      "Best split  0.5  Info gained 0.006141521610073308\n",
      "Train error  0.7027972027972028\n",
      "\n",
      "irradiat\n",
      "Best split  0.5  Info gained 0.025819023909141148\n",
      "Train error  0.7027972027972028\n",
      "\n"
     ]
    }
   ],
   "source": [
    "#Iterate through all features\n",
    "for i in range(0,len(listColNames)-1):\n",
    "    #Create a feature array, then encode it for decision tree\n",
    "    featureCol = [row[i] for row in listData]\n",
    "    featureCol = le.fit_transform(featureCol)\n",
    "    \n",
    "    #Print out feature values and feature names, for debug\n",
    "    #print(featureCol)\n",
    "    print(listColNames[i])\n",
    "    \n",
    "    #Variables to save best split point\n",
    "    bestSplit = 0\n",
    "    maxInfoGain = 0\n",
    "    \n",
    "    #Since the encoded features are ints like 0,1,2,3,4,5, then we separate the data by using 0.5,1.5,2.5,3.5,etc\n",
    "    for i in range(len(listColUniqueVals[i])):\n",
    "        i2= i+0.5\n",
    "        \n",
    "        #Label arrays of 2 parts of the separated data, will be used to calculate entropy\n",
    "        left = []\n",
    "        right = []\n",
    "        for x in range(len(featureCol)):\n",
    "            if(featureCol[x]<i2):\n",
    "                left.append(classColEncoded[x])\n",
    "            elif(featureCol[x]>i2):\n",
    "                right.append(classColEncoded[x])\n",
    "        \n",
    "        #Print entropy and information gain, for debug\n",
    "        #print(\"left node entropy \" + str(i2) + \": \"+str(entropy(left)))\n",
    "        #print(\"right node entropy \" + str(i2) + \": \"+str(entropy(right)))\n",
    "        #print(\"info gained \",str(i2),str(informationGain(classColEncoded.tolist(),left,right)))\n",
    "        infoGain = informationGain(classColEncoded.tolist(),left,right)\n",
    "        #Choose best information gain value to split\n",
    "        if(infoGain > maxInfoGain):\n",
    "            maxInfoGain = infoGain\n",
    "            bestSplit = i2\n",
    "        #Make a decision tree model\n",
    "    print(\"Best split \",bestSplit, \" Info gained\", maxInfoGain)\n",
    "    print(\"Train error \",trainErrorRate(classColEncoded.tolist(),left,right))\n",
    "    print()"
   ]
  },
  {
   "cell_type": "code",
   "execution_count": 11,
   "metadata": {
    "scrolled": true
   },
   "outputs": [
    {
     "name": "stdout",
     "output_type": "stream",
     "text": [
      "0.8778446951746506\n",
      "less than entropy 0.5: -0.0\n",
      "more than entropy 0.5: 0.8791357668533336\n",
      "less than entropy 1.5: 0.9740248644357521\n",
      "more than entropy 1.5: 0.8569784970622595\n",
      "less than entropy 2.5: 0.9156487708004133\n",
      "more than entropy 2.5: 0.8420956603976348\n",
      "less than entropy 3.5: 0.8818383667221814\n",
      "more than entropy 3.5: 0.863120568566631\n",
      "less than entropy 4.5: 0.8812908992306927\n",
      "more than entropy 4.5: 0.6500224216483541\n",
      "less than entropy 5.5: 0.8778446951746506\n",
      "more than entropy 5.5: -0.0\n"
     ]
    }
   ],
   "source": [
    "ageCol = [row[0] for row in listData]\n",
    "ageCol = le.fit_transform(ageCol)\n",
    "print(entropy(classColEncoded.tolist()))\n",
    "for i in range(len(listColUniqueVals[0])):\n",
    "    i2= i+0.5\n",
    "    less = []\n",
    "    more = []\n",
    "    for x in range(len(ageCol)):\n",
    "        if(ageCol[x]<i2):\n",
    "            less.append(classColEncoded[x])\n",
    "        elif(ageCol[x]>i2):\n",
    "            more.append(classColEncoded[x])\n",
    "    print(\"less than entropy \" + str(i2) + \": \"+str(entropy(less)))\n",
    "    print(\"more than entropy \" + str(i2) + \": \"+str(entropy(more)))"
   ]
  },
  {
   "cell_type": "code",
   "execution_count": 12,
   "metadata": {},
   "outputs": [
    {
     "data": {
      "image/svg+xml": [
       "<?xml version=\"1.0\" encoding=\"UTF-8\" standalone=\"no\"?>\n",
       "<!DOCTYPE svg PUBLIC \"-//W3C//DTD SVG 1.1//EN\"\n",
       " \"http://www.w3.org/Graphics/SVG/1.1/DTD/svg11.dtd\">\n",
       "<!-- Generated by graphviz version 2.40.1 (20161225.0304)\n",
       " -->\n",
       "<!-- Title: Tree Pages: 1 -->\n",
       "<svg width=\"244pt\" height=\"195pt\"\n",
       " viewBox=\"0.00 0.00 243.50 195.00\" xmlns=\"http://www.w3.org/2000/svg\" xmlns:xlink=\"http://www.w3.org/1999/xlink\">\n",
       "<g id=\"graph0\" class=\"graph\" transform=\"scale(1 1) rotate(0) translate(4 191)\">\n",
       "<title>Tree</title>\n",
       "<polygon fill=\"#ffffff\" stroke=\"transparent\" points=\"-4,4 -4,-191 239.5,-191 239.5,4 -4,4\"/>\n",
       "<!-- 0 -->\n",
       "<g id=\"node1\" class=\"node\">\n",
       "<title>0</title>\n",
       "<polygon fill=\"#f0b68d\" stroke=\"#000000\" points=\"171.5,-187 59.5,-187 59.5,-104 171.5,-104 171.5,-187\"/>\n",
       "<text text-anchor=\"middle\" x=\"115.5\" y=\"-171.8\" font-family=\"Times,serif\" font-size=\"14.00\" fill=\"#000000\">X[0] &lt;= 1.5</text>\n",
       "<text text-anchor=\"middle\" x=\"115.5\" y=\"-156.8\" font-family=\"Times,serif\" font-size=\"14.00\" fill=\"#000000\">entropy = 0.878</text>\n",
       "<text text-anchor=\"middle\" x=\"115.5\" y=\"-141.8\" font-family=\"Times,serif\" font-size=\"14.00\" fill=\"#000000\">samples = 286</text>\n",
       "<text text-anchor=\"middle\" x=\"115.5\" y=\"-126.8\" font-family=\"Times,serif\" font-size=\"14.00\" fill=\"#000000\">value = [201, 85]</text>\n",
       "<text text-anchor=\"middle\" x=\"115.5\" y=\"-111.8\" font-family=\"Times,serif\" font-size=\"14.00\" fill=\"#000000\">class = y[0]</text>\n",
       "</g>\n",
       "<!-- 1 -->\n",
       "<g id=\"node2\" class=\"node\">\n",
       "<title>1</title>\n",
       "<polygon fill=\"#f7d7c0\" stroke=\"#000000\" points=\"105,-68 0,-68 0,0 105,0 105,-68\"/>\n",
       "<text text-anchor=\"middle\" x=\"52.5\" y=\"-52.8\" font-family=\"Times,serif\" font-size=\"14.00\" fill=\"#000000\">entropy = 0.974</text>\n",
       "<text text-anchor=\"middle\" x=\"52.5\" y=\"-37.8\" font-family=\"Times,serif\" font-size=\"14.00\" fill=\"#000000\">samples = 37</text>\n",
       "<text text-anchor=\"middle\" x=\"52.5\" y=\"-22.8\" font-family=\"Times,serif\" font-size=\"14.00\" fill=\"#000000\">value = [22, 15]</text>\n",
       "<text text-anchor=\"middle\" x=\"52.5\" y=\"-7.8\" font-family=\"Times,serif\" font-size=\"14.00\" fill=\"#000000\">class = y[0]</text>\n",
       "</g>\n",
       "<!-- 0&#45;&gt;1 -->\n",
       "<g id=\"edge1\" class=\"edge\">\n",
       "<title>0&#45;&gt;1</title>\n",
       "<path fill=\"none\" stroke=\"#000000\" d=\"M92.0411,-103.9815C87.1078,-95.2504 81.8926,-86.0202 76.9248,-77.2281\"/>\n",
       "<polygon fill=\"#000000\" stroke=\"#000000\" points=\"79.8263,-75.2483 71.8597,-68.2637 73.7319,-78.6918 79.8263,-75.2483\"/>\n",
       "<text text-anchor=\"middle\" x=\"65.1651\" y=\"-88.6506\" font-family=\"Times,serif\" font-size=\"14.00\" fill=\"#000000\">True</text>\n",
       "</g>\n",
       "<!-- 2 -->\n",
       "<g id=\"node3\" class=\"node\">\n",
       "<title>2</title>\n",
       "<polygon fill=\"#efb286\" stroke=\"#000000\" points=\"235.5,-68 123.5,-68 123.5,0 235.5,0 235.5,-68\"/>\n",
       "<text text-anchor=\"middle\" x=\"179.5\" y=\"-52.8\" font-family=\"Times,serif\" font-size=\"14.00\" fill=\"#000000\">entropy = 0.857</text>\n",
       "<text text-anchor=\"middle\" x=\"179.5\" y=\"-37.8\" font-family=\"Times,serif\" font-size=\"14.00\" fill=\"#000000\">samples = 249</text>\n",
       "<text text-anchor=\"middle\" x=\"179.5\" y=\"-22.8\" font-family=\"Times,serif\" font-size=\"14.00\" fill=\"#000000\">value = [179, 70]</text>\n",
       "<text text-anchor=\"middle\" x=\"179.5\" y=\"-7.8\" font-family=\"Times,serif\" font-size=\"14.00\" fill=\"#000000\">class = y[0]</text>\n",
       "</g>\n",
       "<!-- 0&#45;&gt;2 -->\n",
       "<g id=\"edge2\" class=\"edge\">\n",
       "<title>0&#45;&gt;2</title>\n",
       "<path fill=\"none\" stroke=\"#000000\" d=\"M139.3312,-103.9815C144.3956,-95.1585 149.7525,-85.8258 154.8468,-76.9506\"/>\n",
       "<polygon fill=\"#000000\" stroke=\"#000000\" points=\"157.8903,-78.6789 159.833,-68.2637 151.8193,-75.1942 157.8903,-78.6789\"/>\n",
       "<text text-anchor=\"middle\" x=\"166.3643\" y=\"-88.6954\" font-family=\"Times,serif\" font-size=\"14.00\" fill=\"#000000\">False</text>\n",
       "</g>\n",
       "</g>\n",
       "</svg>\n"
      ],
      "text/plain": [
       "<graphviz.files.Source at 0x7fc8d5e29d10>"
      ]
     },
     "execution_count": 12,
     "metadata": {},
     "output_type": "execute_result"
    }
   ],
   "source": [
    "clf2 = tree.DecisionTreeClassifier(max_depth=1,criterion='entropy')\n",
    "clf2.fit(ageCol.reshape(-1,1),classColEncoded)\n",
    "dot_data = tree.export_graphviz(clf2, out_file=None,filled=True, class_names=True)\n",
    "graph = graphviz.Source(dot_data)\n",
    "graph"
   ]
  },
  {
   "cell_type": "code",
   "execution_count": 13,
   "metadata": {},
   "outputs": [
    {
     "name": "stdout",
     "output_type": "stream",
     "text": [
      "0.7027972027972028\n"
     ]
    }
   ],
   "source": [
    "print(clf2.score(ageCol.reshape(-1,1),classColEncoded))"
   ]
  },
  {
   "cell_type": "code",
   "execution_count": null,
   "metadata": {},
   "outputs": [],
   "source": []
  }
 ],
 "metadata": {
  "kernelspec": {
   "display_name": "Python 3",
   "language": "python",
   "name": "python3"
  },
  "language_info": {
   "codemirror_mode": {
    "name": "ipython",
    "version": 3
   },
   "file_extension": ".py",
   "mimetype": "text/x-python",
   "name": "python",
   "nbconvert_exporter": "python",
   "pygments_lexer": "ipython3",
   "version": "3.7.5rc1"
  }
 },
 "nbformat": 4,
 "nbformat_minor": 2
}
