{
 "cells": [
  {
   "cell_type": "code",
   "execution_count": 1,
   "metadata": {},
   "outputs": [],
   "source": [
    "import sys\n",
    "import csv\n",
    "from sklearn import tree\n",
    "from sklearn import preprocessing\n",
    "import matplotlib\n",
    "import graphviz\n",
    "import numpy as np"
   ]
  },
  {
   "cell_type": "code",
   "execution_count": 2,
   "metadata": {},
   "outputs": [],
   "source": [
    "szDatasetPath = 'breast_cancer.csv'\n",
    "\n",
    "'''\n",
    "Read the data from the csv file\n",
    "listColNames[j] stores the jth column name\n",
    "listData[i][:-1] are the features of the ith example\n",
    "listData[i][-1] is the target value of the ith example\n",
    "'''\n",
    "listColNames = [] # The list of column names\n",
    "listData = [] # The list of feature vectors of all the examples\n",
    "nRow = 0\n",
    "with open(szDatasetPath) as csvFile:\n",
    "    csvReader = csv.reader(csvFile, delimiter=',')\n",
    "    for row in csvReader:\n",
    "        if 0 == nRow:\n",
    "            listColNames = row\n",
    "        else:\n",
    "            listData.append(row)\n",
    "        nRow += 1\n",
    "\n",
    "'''\n",
    "Scan the data and store the unique values of each column.\n",
    "listColUniqueVals[j] stores a list of unique values of the jth column\n",
    "'''\n",
    "listColUniqueVals = [[] for i in range(len(listColNames))]\n",
    "for example in listData:\n",
    "    for i in range(len(example)):\n",
    "        if example[i] not in listColUniqueVals[i]:\n",
    "            listColUniqueVals[i].append(example[i])\n"
   ]
  },
  {
   "cell_type": "code",
   "execution_count": 3,
   "metadata": {},
   "outputs": [
    {
     "data": {
      "text/plain": [
       "['age',\n",
       " 'menopause',\n",
       " 'tumor-size',\n",
       " 'inv-nodes',\n",
       " 'node-caps',\n",
       " 'deg-malig',\n",
       " 'breast',\n",
       " 'breast-quad',\n",
       " 'irradiat',\n",
       " 'class']"
      ]
     },
     "execution_count": 3,
     "metadata": {},
     "output_type": "execute_result"
    }
   ],
   "source": [
    "listColNames"
   ]
  },
  {
   "cell_type": "code",
   "execution_count": null,
   "metadata": {},
   "outputs": [],
   "source": [
    "listColUniqueVals"
   ]
  },
  {
   "cell_type": "code",
   "execution_count": null,
   "metadata": {},
   "outputs": [],
   "source": [
    "listData"
   ]
  },
  {
   "cell_type": "code",
   "execution_count": 4,
   "metadata": {},
   "outputs": [
    {
     "name": "stdout",
     "output_type": "stream",
     "text": [
      "DecisionTreeClassifier(class_weight=None, criterion='entropy', max_depth=1,\n",
      "                       max_features=None, max_leaf_nodes=None,\n",
      "                       min_impurity_decrease=0.0, min_impurity_split=None,\n",
      "                       min_samples_leaf=1, min_samples_split=2,\n",
      "                       min_weight_fraction_leaf=0.0, presort=False,\n",
      "                       random_state=None, splitter='best')\n"
     ]
    }
   ],
   "source": [
    "clf = tree.DecisionTreeClassifier(max_depth=1, criterion='entropy')\n",
    "print(clf)"
   ]
  },
  {
   "cell_type": "code",
   "execution_count": 5,
   "metadata": {},
   "outputs": [],
   "source": [
    "#Calculate entropy of an array\n",
    "def entropy(labels):\n",
    "    prob_dict = {x:labels.count(x)/len(labels) for x in labels}\n",
    "    probs = np.array(list(prob_dict.values()))\n",
    "\n",
    "    return - probs.dot(np.log2(probs))"
   ]
  },
  {
   "cell_type": "code",
   "execution_count": 9,
   "metadata": {},
   "outputs": [],
   "source": [
    "#Label encoder to use when encoding features and labels\n",
    "le = preprocessing.LabelEncoder()"
   ]
  },
  {
   "cell_type": "code",
   "execution_count": 8,
   "metadata": {},
   "outputs": [],
   "source": [
    "#Encode the label array\n",
    "classCol = [row[-1] for row in listData]\n",
    "classColEncoded = le.fit_transform(classCol)"
   ]
  },
  {
   "cell_type": "code",
   "execution_count": 14,
   "metadata": {},
   "outputs": [
    {
     "name": "stdout",
     "output_type": "stream",
     "text": [
      "age\n",
      "less than entropy 0.5: -0.0\n",
      "more than entropy 0.5: 0.8791357668533336\n",
      "Accuracy:  0.7027972027972028\n",
      "less than entropy 1.5: 0.9740248644357521\n",
      "more than entropy 1.5: 0.8569784970622595\n",
      "Accuracy:  0.7027972027972028\n",
      "less than entropy 2.5: 0.9156487708004133\n",
      "more than entropy 2.5: 0.8420956603976348\n",
      "Accuracy:  0.7027972027972028\n",
      "less than entropy 3.5: 0.8818383667221814\n",
      "more than entropy 3.5: 0.863120568566631\n",
      "Accuracy:  0.7027972027972028\n",
      "less than entropy 4.5: 0.8812908992306927\n",
      "more than entropy 4.5: 0.6500224216483541\n",
      "Accuracy:  0.7027972027972028\n",
      "less than entropy 5.5: 0.8778446951746506\n",
      "more than entropy 5.5: -0.0\n",
      "Accuracy:  0.7027972027972028\n",
      "\n",
      "menopause\n",
      "less than entropy 0.5: 0.843349289138202\n",
      "more than entropy 0.5: 0.9027113410339267\n",
      "Accuracy:  0.7027972027972028\n",
      "less than entropy 1.5: 0.8444034301021592\n",
      "more than entropy 1.5: 0.9043814577244937\n",
      "Accuracy:  0.7027972027972028\n",
      "less than entropy 2.5: 0.8778446951746506\n",
      "more than entropy 2.5: -0.0\n",
      "Accuracy:  0.7027972027972028\n",
      "\n",
      "tumor-size\n",
      "less than entropy 0.5: 0.5435644431995964\n",
      "more than entropy 0.5: 0.8839131774079727\n",
      "Accuracy:  0.7027972027972028\n",
      "less than entropy 1.5: 0.3095434291503252\n",
      "more than entropy 1.5: 0.9169567260822411\n",
      "Accuracy:  0.7027972027972028\n",
      "less than entropy 2.5: 0.5746356978376794\n",
      "more than entropy 2.5: 0.9299429352091801\n",
      "Accuracy:  0.7027972027972028\n",
      "less than entropy 3.5: 0.7518972278650766\n",
      "more than entropy 3.5: 0.9366673818775626\n",
      "Accuracy:  0.7027972027972028\n",
      "less than entropy 4.5: 0.8159065851244354\n",
      "more than entropy 4.5: 0.944387195013346\n",
      "Accuracy:  0.7027972027972028\n",
      "less than entropy 5.5: 0.875911034977713\n",
      "more than entropy 5.5: 0.885612871398971\n",
      "Accuracy:  0.7027972027972028\n",
      "less than entropy 6.5: 0.8827586787955115\n",
      "more than entropy 6.5: 0.8418521897563207\n",
      "Accuracy:  0.7027972027972028\n",
      "less than entropy 7.5: 0.8799334848352933\n",
      "more than entropy 7.5: 0.8366407419411672\n",
      "Accuracy:  0.7027972027972028\n",
      "less than entropy 8.5: 0.8803968110001441\n",
      "more than entropy 8.5: 0.8112781244591328\n",
      "Accuracy:  0.7027972027972028\n",
      "less than entropy 9.5: 0.8830178842973369\n",
      "more than entropy 9.5: -0.0\n",
      "Accuracy:  0.7027972027972028\n",
      "less than entropy 10.5: 0.8778446951746506\n",
      "more than entropy 10.5: -0.0\n",
      "Accuracy:  0.7027972027972028\n",
      "\n",
      "inv-nodes\n",
      "less than entropy 0.5: 0.7527262079169682\n",
      "more than entropy 0.5: 0.9966132830150962\n",
      "Accuracy:  0.7202797202797203\n",
      "less than entropy 1.5: 0.7835203241856621\n",
      "more than entropy 1.5: 0.998363672593813\n",
      "Accuracy:  0.7202797202797203\n",
      "less than entropy 2.5: 0.7932698344258596\n",
      "more than entropy 2.5: 0.9991983542636398\n",
      "Accuracy:  0.7202797202797203\n",
      "less than entropy 3.5: 0.804374635739435\n",
      "more than entropy 3.5: 0.9990102708804813\n",
      "Accuracy:  0.7202797202797203\n",
      "less than entropy 4.5: 0.8095730876239939\n",
      "more than entropy 4.5: 0.999743186071085\n",
      "Accuracy:  0.7202797202797203\n",
      "less than entropy 5.5: 0.853824841473004\n",
      "more than entropy 5.5: 0.9774178175281716\n",
      "Accuracy:  0.7202797202797203\n",
      "less than entropy 6.5: 0.8778446951746506\n",
      "more than entropy 6.5: -0.0\n",
      "Accuracy:  0.7202797202797203\n",
      "\n",
      "node-caps\n",
      "less than entropy 0.5: 0.954434002924965\n",
      "more than entropy 0.5: 0.8750475697549331\n",
      "Accuracy:  0.7237762237762237\n",
      "less than entropy 1.5: 0.7862557466096289\n",
      "more than entropy 1.5: 0.9917033083725818\n",
      "Accuracy:  0.7237762237762237\n",
      "less than entropy 2.5: 0.8778446951746506\n",
      "more than entropy 2.5: -0.0\n",
      "Accuracy:  0.7237762237762237\n",
      "\n",
      "deg-malig\n",
      "less than entropy 0.5: 0.6554444445609847\n",
      "more than entropy 0.5: 0.9243729250875714\n",
      "Accuracy:  0.7202797202797203\n",
      "less than entropy 1.5: 0.7199335758956061\n",
      "more than entropy 1.5: 0.9975025463691152\n",
      "Accuracy:  0.7202797202797203\n",
      "less than entropy 2.5: 0.8778446951746506\n",
      "more than entropy 2.5: -0.0\n",
      "Accuracy:  0.7202797202797203\n",
      "\n",
      "breast\n",
      "less than entropy 0.5: 0.906938456459923\n",
      "more than entropy 0.5: 0.8395304981054318\n",
      "Accuracy:  0.7027972027972028\n",
      "less than entropy 1.5: 0.8778446951746506\n",
      "more than entropy 1.5: -0.0\n",
      "Accuracy:  0.7027972027972028\n",
      "\n",
      "breast-quad\n",
      "less than entropy 0.5: -0.0\n",
      "more than entropy 0.5: 0.8747617811911197\n",
      "Accuracy:  0.7062937062937062\n",
      "less than entropy 1.5: 0.7732266742876346\n",
      "more than entropy 1.5: 0.8849636363831528\n",
      "Accuracy:  0.7062937062937062\n",
      "less than entropy 2.5: 0.8849636363831528\n",
      "more than entropy 2.5: 0.8715561463084058\n",
      "Accuracy:  0.7062937062937062\n",
      "less than entropy 3.5: 0.8663972334361423\n",
      "more than entropy 3.5: 0.9182958340544896\n",
      "Accuracy:  0.7062937062937062\n",
      "less than entropy 4.5: 0.8616231965681969\n",
      "more than entropy 4.5: 0.9672947789468944\n",
      "Accuracy:  0.7062937062937062\n",
      "less than entropy 5.5: 0.8778446951746506\n",
      "more than entropy 5.5: -0.0\n",
      "Accuracy:  0.7062937062937062\n",
      "\n",
      "irradiat\n",
      "less than entropy 0.5: 0.8076226097576923\n",
      "more than entropy 0.5: 0.9943766625699825\n",
      "Accuracy:  0.7027972027972028\n",
      "less than entropy 1.5: 0.8778446951746506\n",
      "more than entropy 1.5: -0.0\n",
      "Accuracy:  0.7027972027972028\n",
      "\n"
     ]
    }
   ],
   "source": [
    "#Iterate through all features\n",
    "for i in range(0,len(listColNames)-1):\n",
    "    #Create a feature array, then encode it for decision tree\n",
    "    featureCol = [row[i] for row in listData]\n",
    "    featureCol = le.fit_transform(featureCol)\n",
    "    print(listColNames[i])\n",
    "    #Since the encoded features are ints like 0,1,2,3,4,5, then we separate the data by using 0.5,1.5,2.5,3.5,etc\n",
    "    for i in range(len(listColUniqueVals[i])):\n",
    "        i2= i+0.5\n",
    "        \n",
    "        #Label arrays of 2 parts of the separated data, will be used to calculate entropy\n",
    "        less = []\n",
    "        more = []\n",
    "        for x in range(len(featureCol)):\n",
    "            if(featureCol[x]<i2):\n",
    "                less.append(classColEncoded[x])\n",
    "            elif(featureCol[x]>i2):\n",
    "                more.append(classColEncoded[x])\n",
    "        \n",
    "        #Print entropy\n",
    "        print(\"less than entropy \" + str(i2) + \": \"+str(entropy(less)))\n",
    "        print(\"more than entropy \" + str(i2) + \": \"+str(entropy(more)))\n",
    "        \n",
    "        #Make a decision tree model\n",
    "        clf = tree.DecisionTreeClassifier(max_depth=1, criterion='entropy')\n",
    "    print()"
   ]
  },
  {
   "cell_type": "code",
   "execution_count": null,
   "metadata": {},
   "outputs": [],
   "source": [
    "ageCol = [row[0] for row in listData]"
   ]
  },
  {
   "cell_type": "code",
   "execution_count": null,
   "metadata": {},
   "outputs": [],
   "source": [
    "ageCol = le.fit_transform(ageCol)"
   ]
  },
  {
   "cell_type": "code",
   "execution_count": null,
   "metadata": {},
   "outputs": [],
   "source": [
    "print(entropy(classCol))\n",
    "for i in range(len(listColUniqueVals[0])):\n",
    "    i2= i+0.5\n",
    "    less = []\n",
    "    more = []\n",
    "    for x in range(len(ageCol)):\n",
    "        if(ageCol[x]<i2):\n",
    "            less.append(classColEncoded[x])\n",
    "        elif(ageCol[x]>i2):\n",
    "            more.append(classColEncoded[x])\n",
    "    print(\"less than entropy \" + str(i2) + \": \"+str(entropy(less)))\n",
    "    print(\"more than entropy \" + str(i2) + \": \"+str(entropy(more)))\n",
    "    print()"
   ]
  },
  {
   "cell_type": "code",
   "execution_count": null,
   "metadata": {},
   "outputs": [],
   "source": [
    "dot_data = tree.export_graphviz(clf, out_file=None,filled=True, class_names=True)\n",
    "graph = graphviz.Source(dot_data)\n",
    "graph"
   ]
  },
  {
   "cell_type": "code",
   "execution_count": null,
   "metadata": {},
   "outputs": [],
   "source": [
    "\n"
   ]
  },
  {
   "cell_type": "code",
   "execution_count": null,
   "metadata": {},
   "outputs": [],
   "source": []
  }
 ],
 "metadata": {
  "kernelspec": {
   "display_name": "Python 3",
   "language": "python",
   "name": "python3"
  },
  "language_info": {
   "codemirror_mode": {
    "name": "ipython",
    "version": 3
   },
   "file_extension": ".py",
   "mimetype": "text/x-python",
   "name": "python",
   "nbconvert_exporter": "python",
   "pygments_lexer": "ipython3",
   "version": "3.7.5rc1"
  }
 },
 "nbformat": 4,
 "nbformat_minor": 2
}
